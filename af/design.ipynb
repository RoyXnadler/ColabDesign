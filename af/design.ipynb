{
 "cells": [
  {
   "cell_type": "markdown",
   "metadata": {
    "id": "OA2k3sAYuiXe"
   },
   "source": [
    "#AfDesign (beta version)\n",
    "Backprop through AlphaFold for protein design.\n",
    "\n",
    "**WARNING**\n",
    "1.   This notebook is in active development and was designed for demonstration purposes only.\n",
    "2.   Using AfDesign as the only \"loss\" function for design might be a bad idea, you may find adversarial sequences (aka. sequences that trick AlphaFold).\n",
    "3.   The current setup is limited to max length of ~256 amino acids length."
   ]
  },
  {
   "cell_type": "code",
   "source": [
    "# Extend import paths to work with the submodules\n",
    "import os\n",
    "import sys\n",
    "sys.path.append(os.path.realpath('af'))\n",
    "os.getcwd(), sys.path"
   ],
   "metadata": {
    "id": "rQw4-K1ui06u",
    "outputId": "b2e45b00-405a-4ecd-e970-9bb1862fc40a",
    "colab": {
     "base_uri": "https://localhost:8080/"
    }
   },
   "execution_count": 2,
   "outputs": [
    {
     "output_type": "execute_result",
     "data": {
      "text/plain": [
       "('/mnt/yoavsdrive/royn/ColabDesign',\n",
       " ['/mnt/yoavsdrive/royn/ColabDesign',\n",
       "  '/media/data1/royn/miniconda3/envs/ALPHAFOLD/lib/python39.zip',\n",
       "  '/media/data1/royn/miniconda3/envs/ALPHAFOLD/lib/python3.9',\n",
       "  '/media/data1/royn/miniconda3/envs/ALPHAFOLD/lib/python3.9/lib-dynload',\n",
       "  '',\n",
       "  '/media/data1/royn/miniconda3/envs/ALPHAFOLD/lib/python3.9/site-packages',\n",
       "  '/mnt/yoavsdrive/royn/ColabDesign/af'])"
      ]
     },
     "metadata": {},
     "execution_count": 2
    }
   ]
  },
  {
   "cell_type": "code",
   "execution_count": 3,
   "metadata": {
    "id": "Vt7G_nbNeSQ3"
   },
   "outputs": [],
   "source": [
    "#@title import libraries\n",
    "\n",
    "import numpy as np\n",
    "from IPython.display import HTML\n",
    "from af.design import mk_design_model, clear_mem\n",
    "\n",
    "#########################\n",
    "def get_pdb(pdb_code=\"\"):\n",
    "  os.system(f\"wget -qnc https://files.rcsb.org/view/{pdb_code}.pdb\")\n",
    "  return f\"{pdb_code}.pdb\""
   ]
  },
  {
   "cell_type": "markdown",
   "metadata": {
    "id": "UUfKrOzT0gOS"
   },
   "source": [
    "# fixed backbone design (fixbb)\n",
    "For a given protein backbone, generate/design a new sequence that AlphaFold thinks folds into that conformation. "
   ]
  },
  {
   "cell_type": "code",
   "execution_count": 4,
   "metadata": {
    "id": "qLd1DsnKzxBJ",
    "outputId": "c2909e3b-3f27-4e87-dcd2-cfe94594b38c",
    "colab": {
     "base_uri": "https://localhost:8080/"
    }
   },
   "outputs": [
    {
     "output_type": "stream",
     "name": "stdout",
     "text": [
      "length 89\n",
      "weights {'msa_ent': 0.01, 'dgram_cce': 1.0, 'fape': 0.0, 'pae': 0.1, 'plddt': 0.1}\n"
     ]
    }
   ],
   "source": [
    "clear_mem()\n",
    "model = mk_design_model(protocol=\"fixbb\")\n",
    "model.prep_inputs(pdb_filename=get_pdb(\"1TEN\"), chain=\"A\")\n",
    "\n",
    "print(\"length\",  model._len)\n",
    "print(\"weights\", model.opt[\"weights\"])"
   ]
  },
  {
   "cell_type": "code",
   "source": [
    "model.design_3stage()"
   ],
   "metadata": {
    "id": "u0AwskJ84NGx"
   },
   "execution_count": null,
   "outputs": []
  },
  {
   "cell_type": "code",
   "source": [
    "model.plot_traj()  "
   ],
   "metadata": {
    "id": "8FB1v7dn1LL6"
   },
   "execution_count": null,
   "outputs": []
  },
  {
   "cell_type": "code",
   "execution_count": null,
   "metadata": {
    "id": "cW1KQiHKJpfp"
   },
   "outputs": [],
   "source": [
    "HTML(model.animate())"
   ]
  },
  {
   "cell_type": "code",
   "execution_count": null,
   "metadata": {
    "id": "YEApO8YzBoS0"
   },
   "outputs": [],
   "source": [
    "model.plot_pdb()"
   ]
  },
  {
   "cell_type": "code",
   "execution_count": null,
   "metadata": {
    "id": "ff3vjNFgBqc9"
   },
   "outputs": [],
   "source": [
    "model.save_pdb(f\"{model.protocol}.pdb\")"
   ]
  }
 ],
 "metadata": {
  "accelerator": "GPU",
  "colab": {
   "collapsed_sections": [
    "q4qiU9I0QHSz"
   ],
   "name": "design.ipynb",
   "provenance": []
  },
  "kernelspec": {
   "display_name": "Python 3",
   "name": "python3"
  },
  "language_info": {
   "name": "python"
  }
 },
 "nbformat": 4,
 "nbformat_minor": 0
}